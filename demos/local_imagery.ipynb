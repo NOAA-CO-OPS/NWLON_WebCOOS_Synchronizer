{
 "cells": [
  {
   "cell_type": "markdown",
   "metadata": {},
   "source": [
    "## Create a movie of a high water event from locally saved images from a non-PTZ camera alongside a water level timeseries\n",
    "\n",
    "### This demo uses the example images that came with the package in NWLON_WebCOOS_Synchronizer/data/images"
   ]
  },
  {
   "cell_type": "markdown",
   "metadata": {},
   "source": [
    "_ _ _ _ _ _ _ _ _ _ _ _ _ _ _ _ _ _ _ _ _ _ _ _ _ _ _ _ _ _ _ _ _ _ _ _ _ _ _ _ _ _"
   ]
  },
  {
   "cell_type": "markdown",
   "metadata": {},
   "source": [
    "### Add the package directory to pythonpath so it can be imported correctly:"
   ]
  },
  {
   "cell_type": "code",
   "execution_count": null,
   "metadata": {},
   "outputs": [],
   "source": [
    "import os\n",
    "import sys\n",
    "sys.path.append(os.path.abspath(os.path.join(os.getcwd(), '..', '../NWLON_WebCOOS_Synchronizer')))"
   ]
  },
  {
   "cell_type": "markdown",
   "metadata": {},
   "source": [
    "### Import the module"
   ]
  },
  {
   "cell_type": "code",
   "execution_count": null,
   "metadata": {},
   "outputs": [],
   "source": [
    "import nwlon_webcoos_synchronizer as synch"
   ]
  },
  {
   "cell_type": "markdown",
   "metadata": {},
   "source": [
    "### Synchronize the webcamera imagery with water level data and create a movie\n",
    "#### Note: local_dir must contain only the image files, and the images must be named according to the date/time of collection following the format yyyymmddHHMM.png/jpg/tif"
   ]
  },
  {
   "cell_type": "code",
   "execution_count": null,
   "metadata": {
    "scrolled": true
   },
   "outputs": [],
   "source": [
    "synchro = synch.synch_local(station=8775241, \n",
    "                            camera='Example Aransas Camera', \n",
    "                            data_product='water_level', \n",
    "                            local_dir=os.path.abspath(os.path.join(os.getcwd(), '..', '../NWLON_WebCOOS_Synchronizer/data/images')), \n",
    "                            value='all', \n",
    "                            time_start='202406201130', \n",
    "                            time_end='202406201200', \n",
    "                            interval=6, \n",
    "                            cutoff=None)\n",
    "synch.make_movie(synchro,camera='Example Aransas Camera',station=8775241)"
   ]
  }
 ],
 "metadata": {
  "kernelspec": {
   "display_name": "Python 3",
   "language": "python",
   "name": "python3"
  },
  "language_info": {
   "codemirror_mode": {
    "name": "ipython",
    "version": 3
   },
   "file_extension": ".py",
   "mimetype": "text/x-python",
   "name": "python",
   "nbconvert_exporter": "python",
   "pygments_lexer": "ipython3",
   "version": "3.7.6"
  }
 },
 "nbformat": 4,
 "nbformat_minor": 4
}
