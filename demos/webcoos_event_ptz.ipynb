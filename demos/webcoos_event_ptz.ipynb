{
 "cells": [
  {
   "cell_type": "markdown",
   "metadata": {},
   "source": [
    "## Create a movie of a high water event from a PTZ (rotating) WebCOOS webcamera alongside a water level timeseries"
   ]
  },
  {
   "cell_type": "markdown",
   "metadata": {},
   "source": [
    "_ _ _ _ _ _ _ _ _ _ _ _ _ _ _ _ _ _ _ _ _ _ _ _ _ _ _ _ _ _ _ _ _ _ _ _ _ _ _ _ _ _"
   ]
  },
  {
   "cell_type": "markdown",
   "metadata": {},
   "source": [
    "### Add the package directory to pythonpath so it can be imported correctly:"
   ]
  },
  {
   "cell_type": "code",
   "execution_count": null,
   "metadata": {},
   "outputs": [],
   "source": [
    "import os\n",
    "import sys\n",
    "sys.path.append(os.path.abspath(os.path.join(os.getcwd(), '..', '../NWLON_WebCOOS_Synchronizer')))"
   ]
  },
  {
   "cell_type": "markdown",
   "metadata": {},
   "source": [
    "### Import the module and specify your WebCOOS API Token:"
   ]
  },
  {
   "cell_type": "code",
   "execution_count": null,
   "metadata": {},
   "outputs": [],
   "source": [
    "import nwlon_webcoos_synchronizer as synch\n",
    "token = '' ## Insert your WebCOOS API Token here, as a string ##"
   ]
  },
  {
   "cell_type": "markdown",
   "metadata": {},
   "source": [
    "### View the available WebCOOS cameras:"
   ]
  },
  {
   "cell_type": "code",
   "execution_count": null,
   "metadata": {},
   "outputs": [],
   "source": [
    "synch.get_cameras(token)"
   ]
  },
  {
   "cell_type": "markdown",
   "metadata": {},
   "source": [
    "### Select the Charleston Harbor, SC camera and view available imagery products"
   ]
  },
  {
   "cell_type": "code",
   "execution_count": null,
   "metadata": {},
   "outputs": [],
   "source": [
    "camera = 'Charleston Harbor, SC'\n",
    "synch.get_products(camera,token)"
   ]
  },
  {
   "cell_type": "markdown",
   "metadata": {},
   "source": [
    "### Choose a product and view the data inventory for that product:"
   ]
  },
  {
   "cell_type": "code",
   "execution_count": null,
   "metadata": {},
   "outputs": [],
   "source": [
    "product = 'one-minute-stills'\n",
    "synch.get_inventory(camera,product,token)"
   ]
  },
  {
   "cell_type": "markdown",
   "metadata": {},
   "source": [
    "### This is a PTZ camera. We will use the ViewSeparator utility in DataWebcamSyncher to train and save a machine-learning model that is able to classify images into a view category. Then we can make the movie for only the view that we are interested in.\n",
    "\n",
    "### First, specify directories for training and validation images:"
   ]
  },
  {
   "cell_type": "code",
   "execution_count": null,
   "metadata": {},
   "outputs": [],
   "source": [
    "direc_train = 'demo_event_ptz/images_ViewSepTraining_Charleston'\n",
    "direc_test = 'demo_event_ptz/images_ViewSepTesting_Charleston'"
   ]
  },
  {
   "cell_type": "markdown",
   "metadata": {},
   "source": [
    "### To perform the training, you need to know how many views the camera rotates between, and assign each one an integer number (e.g. 1,2,3...). Once you have this info, you can initialize the ViewSeparator utility:"
   ]
  },
  {
   "cell_type": "code",
   "execution_count": null,
   "metadata": {},
   "outputs": [],
   "source": [
    "vs = synch.ViewSeparator(camera,token,n_views=7)"
   ]
  },
  {
   "cell_type": "markdown",
   "metadata": {},
   "source": [
    "### Get the training dataset by labelling images. First, pull 250 images from random times within the available data. Then, assign a label to each image based on its view.\n",
    "\n",
    "#### Note: Images will attempt to be downloaded for 250 random data points. There may not be images available for every data point, so less than 250 images may be downloaded. It is recommended to use n= more images than you think you will need."
   ]
  },
  {
   "cell_type": "code",
   "execution_count": null,
   "metadata": {},
   "outputs": [],
   "source": [
    "time_start = '202305090000'\n",
    "time_stop = '202409251800'\n",
    "vs.get_random_images(time_start,time_stop,n=250,direc=direc_train)\n",
    "vs.label(direc_train)"
   ]
  },
  {
   "cell_type": "markdown",
   "metadata": {},
   "source": [
    "### Train and save the ML model:"
   ]
  },
  {
   "cell_type": "code",
   "execution_count": null,
   "metadata": {},
   "outputs": [],
   "source": [
    "decim_fac=10 # This is a factor by which to decimate image resolution, to prevent memory overload issues. #\n",
    "model = vs.train(direc_train,decim_fac=decim_fac)\n",
    "vs.save_model(model,decim_fac,'demo_event_ptz','trained_model')"
   ]
  },
  {
   "cell_type": "markdown",
   "metadata": {},
   "source": [
    "### Test the model visually on some new images:"
   ]
  },
  {
   "cell_type": "code",
   "execution_count": null,
   "metadata": {},
   "outputs": [],
   "source": [
    "vs.get_random_images(time_start,time_stop,n=30,direc=direc_test)\n",
    "prediction = vs.predict(model,direc_test,decim_fac=10)\n",
    "vs.inspect_prediction(direc_test,prediction)"
   ]
  },
  {
   "cell_type": "markdown",
   "metadata": {},
   "source": [
    "### Synchronize the webcamera imagery with water level data and create a movie for only the view of interest by applying the trained model.\n",
    "### For view_num, you should use the number you assigned to the \"home\" view - the one showing the walkway out into the water."
   ]
  },
  {
   "cell_type": "code",
   "execution_count": null,
   "metadata": {},
   "outputs": [],
   "source": [
    "save_dir = 'demo_event_ptz/images_HWEvent' # Input a directory to save images and the movie #\n",
    "station=8665530\n",
    "synchro = synch.synch(station=station,                              # The NWLON station ID\n",
    "                      camera=camera,                                # The WebCOOS camera name #\n",
    "                      data_product='water_level',                   # The CO-OPS data product to make a timeseries of #\n",
    "                      camera_product=product,                       # The WebCOOS image product to use for the movie #\n",
    "                      value='all',                                  # Can be 'all' or a float value, depending on what you want.\n",
    "                      time_start='202312170800',                    # Start of the movie in local time at the camera location #\n",
    "                      time_end='202312171600',                      # End of the movie in local time at the camera location\n",
    "                      interval=1,                                   # Interval of data and imagery, in minutes. #\n",
    "                      cutoff=None,                                  # Make the movie of only this many data points. Use with value to get what you want.  #\n",
    "                      sep_model='demo_event_ptz/trained_model.pkl', # The trained view separation model. #\n",
    "                      token=token,                                  # Your WebCOOS API Token\n",
    "                      save_dir=save_dir)                            # The directory in which to save the images and movie\n",
    "\n",
    "mov = synch.make_movie(synchro,camera,station,view_num=4) # USE YOUR CORRECT view_num #"
   ]
  }
 ],
 "metadata": {
  "kernelspec": {
   "display_name": "Python 3",
   "language": "python",
   "name": "python3"
  },
  "language_info": {
   "codemirror_mode": {
    "name": "ipython",
    "version": 3
   },
   "file_extension": ".py",
   "mimetype": "text/x-python",
   "name": "python",
   "nbconvert_exporter": "python",
   "pygments_lexer": "ipython3",
   "version": "3.7.6"
  }
 },
 "nbformat": 4,
 "nbformat_minor": 4
}
