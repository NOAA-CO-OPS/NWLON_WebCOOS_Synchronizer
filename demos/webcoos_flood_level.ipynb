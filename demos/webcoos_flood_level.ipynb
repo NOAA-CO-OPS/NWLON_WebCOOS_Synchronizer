{
 "cells": [
  {
   "cell_type": "markdown",
   "metadata": {},
   "source": [
    "## Create a movie to visualize water levels at a certain value from a static WebCOOS webcamera"
   ]
  },
  {
   "cell_type": "markdown",
   "metadata": {},
   "source": [
    "_ _ _ _ _ _ _ _ _ _ _ _ _ _ _ _ _ _ _ _ _ _ _ _ _ _ _ _ _ _ _ _ _ _ _ _ _ _ _ _ _ _"
   ]
  },
  {
   "cell_type": "markdown",
   "metadata": {},
   "source": [
    "### Add the package directory to pythonpath so it can be imported correctly:"
   ]
  },
  {
   "cell_type": "code",
   "execution_count": null,
   "metadata": {},
   "outputs": [],
   "source": [
    "import os\n",
    "import sys\n",
    "sys.path.append(os.path.abspath(os.path.join(os.getcwd(), '..', '../NWLON_WebCOOS_Synchronizer')))"
   ]
  },
  {
   "cell_type": "markdown",
   "metadata": {},
   "source": [
    "### Import the module and specify your WebCOOS API Token:"
   ]
  },
  {
   "cell_type": "code",
   "execution_count": null,
   "metadata": {},
   "outputs": [],
   "source": [
    "import nwlon_webcoos_synchronizer as synch\n",
    "token = '' ## Insert your WebCOOS API Token here, as a string ##"
   ]
  },
  {
   "cell_type": "markdown",
   "metadata": {},
   "source": [
    "### View the available WebCOOS cameras:"
   ]
  },
  {
   "cell_type": "code",
   "execution_count": null,
   "metadata": {},
   "outputs": [],
   "source": [
    "synch.get_cameras(token)"
   ]
  },
  {
   "cell_type": "markdown",
   "metadata": {},
   "source": [
    "### Select the North Inlet, SC camera and view available imagery products"
   ]
  },
  {
   "cell_type": "code",
   "execution_count": null,
   "metadata": {},
   "outputs": [],
   "source": [
    "camera = 'North Inlet-Winyah Bay  National Estuarine Research Reserve Dock, Georgetown, SC'\n",
    "synch.get_products(camera,token)"
   ]
  },
  {
   "cell_type": "markdown",
   "metadata": {},
   "source": [
    "### Choose a product and view the data inventory for that product:"
   ]
  },
  {
   "cell_type": "code",
   "execution_count": null,
   "metadata": {},
   "outputs": [],
   "source": [
    "product = 'one-minute-stills'\n",
    "synch.get_inventory(camera,product,token)"
   ]
  },
  {
   "cell_type": "markdown",
   "metadata": {},
   "source": [
    "### Synchronize the webcamera imagery with water level data from the Charleston NWLON gauge for water levels at a value of 0.45 m (MHHW) - a value above the Minor Flooding Threshold.\n",
    "\n",
    "#### Get 50 examples from 2024. Examples will be shuffled in time to give a variety, however likely not all examples have an image from the same time (e.g. a data point in the middle of the night). It is recommended to get more examples than you think you need for this reason."
   ]
  },
  {
   "cell_type": "code",
   "execution_count": null,
   "metadata": {
    "scrolled": true
   },
   "outputs": [],
   "source": [
    "save_dir = 'demo_flood_level' # Input a directory to save images and the movie #\n",
    "station = 8665530\n",
    "time_start = '202401040000'\n",
    "time_end = '202410012359'\n",
    "synchro = synch.synch(station=station,            # The NWLON station ID\n",
    "                      camera=camera,              # The WebCOOS camera name #\n",
    "                      data_product='water_level', # The CO-OPS data product to make a timeseries of #\n",
    "                      camera_product=product,     # The WebCOOS image product to use for the movie #\n",
    "                      value=0.45,                 # Can be 'all' or a float value, depending on what you want.\n",
    "                      time_start=time_start,      # Start of the movie in local time at the camera location #\n",
    "                      time_end=time_end,          # End of the movie in local time at the camera location\n",
    "                      interval=6,                 # Interval of data and imagery, in minutes. #\n",
    "                      cutoff=50,                  # Make the movie of only this many data points. Use with value to get what you want.  #\n",
    "                      sep_model=None,             # A trained view separation model. Can be made yourself. See Demo 2. Not needed for this non-PTZ camera.\n",
    "                      token=token,                # Your WebCOOS API Token\n",
    "                      save_dir=save_dir)          # The directory in which to save the images and movie\n",
    "synchro"
   ]
  },
  {
   "cell_type": "markdown",
   "metadata": {},
   "source": [
    "### Make a movie showing the examples ###"
   ]
  },
  {
   "cell_type": "code",
   "execution_count": null,
   "metadata": {},
   "outputs": [],
   "source": [
    "mov = synch.make_movie(synchro,camera,station)"
   ]
  }
 ],
 "metadata": {
  "kernelspec": {
   "display_name": "Python 3",
   "language": "python",
   "name": "python3"
  },
  "language_info": {
   "codemirror_mode": {
    "name": "ipython",
    "version": 3
   },
   "file_extension": ".py",
   "mimetype": "text/x-python",
   "name": "python",
   "nbconvert_exporter": "python",
   "pygments_lexer": "ipython3",
   "version": "3.7.6"
  }
 },
 "nbformat": 4,
 "nbformat_minor": 4
}
